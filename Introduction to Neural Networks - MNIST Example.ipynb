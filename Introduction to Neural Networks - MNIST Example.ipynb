{
 "cells": [
  {
   "cell_type": "markdown",
   "metadata": {
    "heading_collapsed": true,
    "hideCode": false,
    "hidePrompt": false
   },
   "source": [
    "# Load Modules"
   ]
  },
  {
   "cell_type": "code",
   "execution_count": 1,
   "metadata": {
    "ExecuteTime": {
     "end_time": "2020-10-06T19:48:41.116648Z",
     "start_time": "2020-10-06T19:48:36.834752Z"
    },
    "hidden": true,
    "hideCode": false,
    "hidePrompt": false,
    "scrolled": true
   },
   "outputs": [
    {
     "name": "stdout",
     "output_type": "stream",
     "text": [
      "Populating the interactive namespace from numpy and matplotlib\n"
     ]
    },
    {
     "name": "stderr",
     "output_type": "stream",
     "text": [
      "Using TensorFlow backend.\n"
     ]
    }
   ],
   "source": [
    "%pylab inline\n",
    "\n",
    "import numpy  as np\n",
    "import pandas  as pd\n",
    "import os\n",
    "import random\n",
    "import tensorflow as tf\n",
    "from keras import backend as K"
   ]
  },
  {
   "cell_type": "markdown",
   "metadata": {
    "hidden": true
   },
   "source": [
    "This notebook requires the [Keras](https://keras.io/) module. You can install it with the shell command `pip install keras`."
   ]
  },
  {
   "cell_type": "code",
   "execution_count": 2,
   "metadata": {
    "ExecuteTime": {
     "end_time": "2020-10-06T19:48:41.132684Z",
     "start_time": "2020-10-06T19:48:41.120334Z"
    },
    "hidden": true,
    "hideCode": false,
    "hidePrompt": false
   },
   "outputs": [],
   "source": [
    "from keras.models     import Sequential\n",
    "from keras.layers     import Activation\n",
    "from keras.optimizers import SGD\n",
    "from keras.layers     import Dense\n",
    "from keras.utils      import to_categorical\n",
    "from keras.datasets   import mnist\n",
    "from keras.metrics    import categorical_accuracy\n",
    "from keras.callbacks  import EarlyStopping"
   ]
  },
  {
   "cell_type": "code",
   "execution_count": 3,
   "metadata": {
    "ExecuteTime": {
     "end_time": "2020-10-06T19:48:41.169578Z",
     "start_time": "2020-10-06T19:48:41.137110Z"
    },
    "hidden": true
   },
   "outputs": [],
   "source": [
    "# Set the Random Seed\n",
    "seed_value= 2020\n",
    "\n",
    "os.environ['PYTHONHASHSEED']=str(seed_value)\n",
    "random.seed(seed_value)\n",
    "np.random.seed(seed_value)\n",
    "tf.random.set_seed(seed_value)\n",
    "\n",
    "session_conf = tf.compat.v1.ConfigProto(intra_op_parallelism_threads=1, inter_op_parallelism_threads=1)\n",
    "sess = tf.compat.v1.Session(graph=tf.compat.v1.get_default_graph(), config=session_conf)\n",
    "tf.compat.v1.keras.backend.set_session(sess)"
   ]
  },
  {
   "cell_type": "markdown",
   "metadata": {
    "hidden": true
   },
   "source": [
    "The module [seaborn](http://seaborn.pydata.org/) is **not** necessary. Just for nicer plots, install it with `pip install seaborn`."
   ]
  },
  {
   "cell_type": "code",
   "execution_count": 4,
   "metadata": {
    "ExecuteTime": {
     "end_time": "2020-10-06T19:48:41.673865Z",
     "start_time": "2020-10-06T19:48:41.173937Z"
    },
    "code_folding": [
     1
    ],
    "hidden": true
   },
   "outputs": [],
   "source": [
    "import seaborn as sns\n",
    "sns.set(style='white', font_scale=1.3, rc={\n",
    "    'lines.linewidth': 3,\n",
    "    'axes.grid': True, 'grid.linestyle': ':',\n",
    "    'axes.spines.left': True,\n",
    "    'axes.spines.bottom': True,\n",
    "    'axes.spines.right': True,\n",
    "    'axes.spines.top': True,\n",
    "    'axes.edgecolor': '.5',\n",
    "})"
   ]
  },
  {
   "cell_type": "markdown",
   "metadata": {
    "heading_collapsed": true,
    "hideCode": false,
    "hidePrompt": false
   },
   "source": [
    "# Load MNIST Dataset"
   ]
  },
  {
   "cell_type": "code",
   "execution_count": 5,
   "metadata": {
    "ExecuteTime": {
     "end_time": "2020-10-06T19:48:41.986121Z",
     "start_time": "2020-10-06T19:48:41.688907Z"
    },
    "hidden": true
   },
   "outputs": [],
   "source": [
    "(x_trai, y_trai), (x_test, y_test) = mnist.load_data()"
   ]
  },
  {
   "cell_type": "code",
   "execution_count": 6,
   "metadata": {
    "ExecuteTime": {
     "end_time": "2020-10-06T19:48:42.000907Z",
     "start_time": "2020-10-06T19:48:41.988543Z"
    },
    "hidden": true
   },
   "outputs": [
    {
     "name": "stdout",
     "output_type": "stream",
     "text": [
      "We have 60,000 samples in the training set\n",
      "We have 10,000 samples in the test set\n"
     ]
    }
   ],
   "source": [
    "L_trai = len(x_trai)\n",
    "L_test = len(x_test)\n",
    "\n",
    "# Reshape the images into vectors of dim 28*28=784\n",
    "X_trai = x_trai.reshape((L_trai, -1))\n",
    "X_test = x_test.reshape((L_test, -1))\n",
    "\n",
    "# Y needs to be converted into a vector with indicators\n",
    "Y_test = to_categorical(y_test)\n",
    "Y_trai = to_categorical(y_trai)\n",
    "\n",
    "print(\"We have {0:0,.0f} samples in the training set\".format(L_trai))\n",
    "print(\"We have {0:0,.0f} samples in the test set\".format(L_test))"
   ]
  },
  {
   "cell_type": "markdown",
   "metadata": {
    "ExecuteTime": {
     "end_time": "2019-10-26T18:26:10.335607Z",
     "start_time": "2019-10-26T18:26:10.329806Z"
    },
    "heading_collapsed": true,
    "hidden": true,
    "hideCode": false,
    "hidePrompt": false
   },
   "source": [
    "## Plot some random digits"
   ]
  },
  {
   "cell_type": "code",
   "execution_count": 7,
   "metadata": {
    "ExecuteTime": {
     "end_time": "2020-10-06T19:48:42.643646Z",
     "start_time": "2020-10-06T19:48:42.003561Z"
    },
    "hidden": true,
    "hideCode": false,
    "hidePrompt": false,
    "scrolled": true
   },
   "outputs": [
    {
     "data": {
      "image/png": "[encoded data removed]",
      "text/plain": [
       "<Figure size 648x216 with 12 Axes>"
      ]
     },
     "metadata": {},
     "output_type": "display_data"
    }
   ],
   "source": [
    "NX, NY = 2, 6\n",
    "fig, ax = plt.subplots(NX,NY,figsize=(1.5*NY,1.5*NX))\n",
    "for i in range(NX):\n",
    "    for j in range(NY):\n",
    "        img = x_trai[np.random.randint(L_trai)]\n",
    "        ax[i][j].imshow(img, cmap='Greys');\n",
    "        ax[i][j].set_xticklabels([]); ax[i][j].set_xticks([])\n",
    "        ax[i][j].set_yticklabels([]); ax[i][j].set_yticks([])\n",
    "plt.tight_layout()\n",
    "#plt.savefig(\"digits_examples.pdf\")"
   ]
  },
  {
   "cell_type": "markdown",
   "metadata": {
    "hideCode": false,
    "hidePrompt": false
   },
   "source": [
    "# Shallow Neural Network\n",
    "Only one hidden layer"
   ]
  },
  {
   "cell_type": "code",
   "execution_count": 8,
   "metadata": {
    "ExecuteTime": {
     "end_time": "2020-10-06T19:48:42.734586Z",
     "start_time": "2020-10-06T19:48:42.652141Z"
    },
    "hideCode": false,
    "hidePrompt": false
   },
   "outputs": [],
   "source": [
    "# Define the shallow neural network\n",
    "\n",
    "model = Sequential(name='Shallow Network')\n",
    "\n",
    "model.add(Dense(50, activation=\"relu\", name='Hidden_Layer_1', input_dim=784))\n",
    "\n",
    "model.add(Dense(10, name=\"Output_Layer\"))                  # 10 is the output dimension\n",
    "model.add(Activation(\"softmax\", name='Output_Activation')) # Provides probabilities for each of 0,..,9\n",
    "\n",
    "model.compile(loss=\"categorical_crossentropy\", optimizer=SGD(clipnorm=1), metrics=[categorical_accuracy]  )"
   ]
  },
  {
   "cell_type": "code",
   "execution_count": 9,
   "metadata": {
    "ExecuteTime": {
     "end_time": "2020-10-06T19:48:42.905117Z",
     "start_time": "2020-10-06T19:48:42.739810Z"
    }
   },
   "outputs": [
    {
     "name": "stdout",
     "output_type": "stream",
     "text": [
      "Model: \"Shallow Network\"\n",
      "_________________________________________________________________\n",
      "Layer (type)                 Output Shape              Param #   \n",
      "=================================================================\n",
      "Hidden_Layer_1 (Dense)       (None, 50)                39250     \n",
      "_________________________________________________________________\n",
      "Output_Layer (Dense)         (None, 10)                510       \n",
      "_________________________________________________________________\n",
      "Output_Activation (Activatio (None, 10)                0         \n",
      "=================================================================\n",
      "Total params: 39,760\n",
      "Trainable params: 39,760\n",
      "Non-trainable params: 0\n",
      "_________________________________________________________________\n"
     ]
    }
   ],
   "source": [
    "model.summary()"
   ]
  },
  {
   "cell_type": "code",
   "execution_count": 10,
   "metadata": {
    "ExecuteTime": {
     "end_time": "2020-10-06T19:49:05.950226Z",
     "start_time": "2020-10-06T19:48:42.917659Z"
    },
    "hideCode": false,
    "hidePrompt": false
   },
   "outputs": [
    {
     "name": "stdout",
     "output_type": "stream",
     "text": [
      "Train on 48000 samples, validate on 12000 samples\n",
      "Epoch 1/25\n",
      "48000/48000 [==============================] - 1s 22us/step - loss: 25.0498 - categorical_accuracy: 0.4660 - val_loss: 3.8547 - val_categorical_accuracy: 0.5626\n",
      "Epoch 2/25\n",
      "48000/48000 [==============================] - 1s 19us/step - loss: 2.1928 - categorical_accuracy: 0.5700 - val_loss: 1.3783 - val_categorical_accuracy: 0.6361\n",
      "Epoch 3/25\n",
      "48000/48000 [==============================] - 1s 18us/step - loss: 1.2308 - categorical_accuracy: 0.6767 - val_loss: 1.0110 - val_categorical_accuracy: 0.7161\n",
      "Epoch 4/25\n",
      "48000/48000 [==============================] - 1s 18us/step - loss: 0.9704 - categorical_accuracy: 0.7361 - val_loss: 0.8687 - val_categorical_accuracy: 0.7709\n",
      "Epoch 5/25\n",
      "48000/48000 [==============================] - 1s 18us/step - loss: 0.8264 - categorical_accuracy: 0.7720 - val_loss: 0.7565 - val_categorical_accuracy: 0.7907\n",
      "Epoch 6/25\n",
      "48000/48000 [==============================] - 1s 18us/step - loss: 0.7203 - categorical_accuracy: 0.7991 - val_loss: 0.6893 - val_categorical_accuracy: 0.8263\n",
      "Epoch 7/25\n",
      "48000/48000 [==============================] - 1s 17us/step - loss: 0.6417 - categorical_accuracy: 0.8237 - val_loss: 0.6177 - val_categorical_accuracy: 0.8438\n",
      "Epoch 8/25\n",
      "48000/48000 [==============================] - 1s 18us/step - loss: 0.5815 - categorical_accuracy: 0.8423 - val_loss: 0.5982 - val_categorical_accuracy: 0.8472\n",
      "Epoch 9/25\n",
      "48000/48000 [==============================] - 1s 18us/step - loss: 0.5322 - categorical_accuracy: 0.8573 - val_loss: 0.5415 - val_categorical_accuracy: 0.8703\n",
      "Epoch 10/25\n",
      "48000/48000 [==============================] - 1s 18us/step - loss: 0.4934 - categorical_accuracy: 0.8679 - val_loss: 0.5162 - val_categorical_accuracy: 0.8723\n",
      "Epoch 11/25\n",
      "48000/48000 [==============================] - 1s 18us/step - loss: 0.4623 - categorical_accuracy: 0.8760 - val_loss: 0.5117 - val_categorical_accuracy: 0.8762\n",
      "Epoch 12/25\n",
      "48000/48000 [==============================] - 1s 18us/step - loss: 0.4365 - categorical_accuracy: 0.8815 - val_loss: 0.4854 - val_categorical_accuracy: 0.8838\n",
      "Epoch 13/25\n",
      "48000/48000 [==============================] - 1s 19us/step - loss: 0.4153 - categorical_accuracy: 0.8884 - val_loss: 0.4625 - val_categorical_accuracy: 0.8898\n",
      "Epoch 14/25\n",
      "48000/48000 [==============================] - 1s 18us/step - loss: 0.3944 - categorical_accuracy: 0.8933 - val_loss: 0.4550 - val_categorical_accuracy: 0.8928\n",
      "Epoch 15/25\n",
      "48000/48000 [==============================] - 1s 18us/step - loss: 0.3767 - categorical_accuracy: 0.8976 - val_loss: 0.4396 - val_categorical_accuracy: 0.8951\n",
      "Epoch 16/25\n",
      "48000/48000 [==============================] - 1s 17us/step - loss: 0.3608 - categorical_accuracy: 0.9006 - val_loss: 0.4239 - val_categorical_accuracy: 0.9033\n",
      "Epoch 17/25\n",
      "48000/48000 [==============================] - 1s 17us/step - loss: 0.3477 - categorical_accuracy: 0.9043 - val_loss: 0.4154 - val_categorical_accuracy: 0.9003\n",
      "Epoch 18/25\n",
      "48000/48000 [==============================] - 1s 18us/step - loss: 0.3338 - categorical_accuracy: 0.9085 - val_loss: 0.4055 - val_categorical_accuracy: 0.9054\n",
      "Epoch 19/25\n",
      "48000/48000 [==============================] - 1s 23us/step - loss: 0.3229 - categorical_accuracy: 0.9112 - val_loss: 0.3928 - val_categorical_accuracy: 0.9096\n",
      "Epoch 20/25\n",
      "48000/48000 [==============================] - 1s 27us/step - loss: 0.3106 - categorical_accuracy: 0.9132 - val_loss: 0.3871 - val_categorical_accuracy: 0.9109\n",
      "Epoch 21/25\n",
      "48000/48000 [==============================] - 1s 25us/step - loss: 0.3022 - categorical_accuracy: 0.9166 - val_loss: 0.3783 - val_categorical_accuracy: 0.9115\n",
      "Epoch 22/25\n",
      "48000/48000 [==============================] - 1s 20us/step - loss: 0.2922 - categorical_accuracy: 0.9188 - val_loss: 0.3674 - val_categorical_accuracy: 0.9139\n",
      "Epoch 23/25\n",
      "48000/48000 [==============================] - 1s 16us/step - loss: 0.2841 - categorical_accuracy: 0.9208 - val_loss: 0.3700 - val_categorical_accuracy: 0.9153\n",
      "Epoch 24/25\n",
      "48000/48000 [==============================] - 1s 16us/step - loss: 0.2768 - categorical_accuracy: 0.9224 - val_loss: 0.3667 - val_categorical_accuracy: 0.9156\n",
      "Epoch 25/25\n",
      "48000/48000 [==============================] - 1s 16us/step - loss: 0.2712 - categorical_accuracy: 0.9236 - val_loss: 0.3546 - val_categorical_accuracy: 0.9190\n"
     ]
    }
   ],
   "source": [
    "# Train the shallow neural network\n",
    "history = model.fit(\n",
    "    X_trai, Y_trai, validation_split=0.2,\n",
    "    epochs=25, batch_size=128, verbose=1,\n",
    "    callbacks=[\n",
    "        EarlyStopping(monitor='val_categorical_accuracy', patience=3, verbose=1, mode='auto')\n",
    "    ],\n",
    ")"
   ]
  },
  {
   "cell_type": "code",
   "execution_count": 11,
   "metadata": {
    "ExecuteTime": {
     "end_time": "2020-10-06T19:49:06.833175Z",
     "start_time": "2020-10-06T19:49:05.953039Z"
    },
    "hideCode": false,
    "hidePrompt": false
   },
   "outputs": [
    {
     "data": {
      "image/png": "[encoded data removed]",
      "text/plain": [
       "<Figure size 720x360 with 1 Axes>"
      ]
     },
     "metadata": {},
     "output_type": "display_data"
    }
   ],
   "source": [
    "df = pd.DataFrame(history.history).rename({\n",
    "    'loss':'Training Loss', 'val_loss':'Validation Loss'\n",
    "},axis=1)\n",
    "\n",
    "fig, ax1 = plt.subplots(1,1, figsize=(10,5))\n",
    "df.iloc[1:][['Training Loss', 'Validation Loss']].plot(style='-o', ax=ax1, logy=True);\n",
    "# plt.savefig(\"training.pdf\")"
   ]
  },
  {
   "cell_type": "markdown",
   "metadata": {
    "ExecuteTime": {
     "end_time": "2019-10-26T18:48:01.155227Z",
     "start_time": "2019-10-26T18:48:01.137797Z"
    },
    "hideCode": false,
    "hidePrompt": false
   },
   "source": [
    "## Out-of-sample predictions"
   ]
  },
  {
   "cell_type": "code",
   "execution_count": 12,
   "metadata": {
    "ExecuteTime": {
     "end_time": "2020-10-06T19:49:07.784364Z",
     "start_time": "2020-10-06T19:49:06.836233Z"
    },
    "hideCode": false,
    "hidePrompt": false
   },
   "outputs": [
    {
     "name": "stdout",
     "output_type": "stream",
     "text": [
      "In-sample accuracy:     92.53%\n",
      "Out-of-sample accuracy: 91.32%\n"
     ]
    }
   ],
   "source": [
    "# The predicted class is the one with the highest prob\n",
    "preds = model.predict(X_trai)\n",
    "preds = np.argmax(preds,axis=1)\n",
    "reals = np.argmax(Y_trai,axis=1)\n",
    "accuracy_in = np.mean(preds==reals)\n",
    "\n",
    "preds = model.predict(X_test)\n",
    "preds = np.argmax(preds,axis=1)\n",
    "reals = np.argmax(Y_test,axis=1)\n",
    "accuracy_out = np.mean(preds==reals)\n",
    "\n",
    "print(\"In-sample accuracy:     {0:0.2f}%\".format(accuracy_in*100))\n",
    "print(\"Out-of-sample accuracy: {0:0.2f}%\".format(accuracy_out*100))"
   ]
  },
  {
   "cell_type": "code",
   "execution_count": 13,
   "metadata": {
    "ExecuteTime": {
     "end_time": "2020-10-06T19:49:08.519310Z",
     "start_time": "2020-10-06T19:49:07.788738Z"
    },
    "hideCode": false,
    "hidePrompt": false,
    "scrolled": true
   },
   "outputs": [
    {
     "data": {
      "image/png": "[encoded data removed]",
      "text/plain": [
       "<Figure size 648x288 with 12 Axes>"
      ]
     },
     "metadata": {},
     "output_type": "display_data"
    }
   ],
   "source": [
    "NX, NY = 2, 6\n",
    "fig, ax = plt.subplots(NX,NY,figsize=(1.5*NY,2*NX))\n",
    "for i in range(NX):\n",
    "    for j in range(NY):\n",
    "        s = np.random.randint(len(preds))\n",
    "        img = x_test[s]\n",
    "        colors = 'Greens' if reals[s]==preds[s] else 'Reds'\n",
    "        ax[i][j].imshow(img, cmap=colors)\n",
    "        ax[i][j].set_title(\"Number:    %d \\nPredicted: %d\"%(reals[s], preds[s]))\n",
    "        ax[i][j].set_xticklabels([]); ax[i][j].set_xticks([])\n",
    "        ax[i][j].set_yticklabels([]); ax[i][j].set_yticks([])\n",
    "plt.tight_layout()\n",
    "#plt.savefig(\"digits_preds_examples.pdf\")"
   ]
  },
  {
   "cell_type": "markdown",
   "metadata": {},
   "source": [
    "# Go Deeper\n",
    "5 hidden layers"
   ]
  },
  {
   "cell_type": "code",
   "execution_count": 14,
   "metadata": {
    "ExecuteTime": {
     "end_time": "2020-10-06T19:49:09.280987Z",
     "start_time": "2020-10-06T19:49:08.524379Z"
    },
    "hideCode": false,
    "hidePrompt": false
   },
   "outputs": [
    {
     "ename": "TypeError",
     "evalue": "The added layer must be an instance of class Layer. Found: D",
     "output_type": "error",
     "traceback": [
      "\u001b[0;31m---------------------------------------------------------------------------\u001b[0m",
      "\u001b[0;31mTypeError\u001b[0m                                 Traceback (most recent call last)",
      "\u001b[0;32m<ipython-input-14-d16eeb9f485a>\u001b[0m in \u001b[0;36m<module>\u001b[0;34m\u001b[0m\n\u001b[1;32m      1\u001b[0m \u001b[0;31m# Define the neural network\u001b[0m\u001b[0;34m\u001b[0m\u001b[0;34m\u001b[0m\u001b[0;34m\u001b[0m\u001b[0m\n\u001b[1;32m      2\u001b[0m \u001b[0;34m\u001b[0m\u001b[0m\n\u001b[0;32m----> 3\u001b[0;31m \u001b[0mdeep_model\u001b[0m \u001b[0;34m=\u001b[0m \u001b[0mSequential\u001b[0m\u001b[0;34m(\u001b[0m\u001b[0;34m\"Deep Network\"\u001b[0m\u001b[0;34m)\u001b[0m\u001b[0;34m\u001b[0m\u001b[0;34m\u001b[0m\u001b[0m\n\u001b[0m\u001b[1;32m      4\u001b[0m \u001b[0;34m\u001b[0m\u001b[0m\n\u001b[1;32m      5\u001b[0m \u001b[0mdeep_model\u001b[0m\u001b[0;34m.\u001b[0m\u001b[0madd\u001b[0m\u001b[0;34m(\u001b[0m\u001b[0mDense\u001b[0m\u001b[0;34m(\u001b[0m\u001b[0;36m50\u001b[0m\u001b[0;34m,\u001b[0m \u001b[0mactivation\u001b[0m\u001b[0;34m=\u001b[0m\u001b[0;34m\"relu\"\u001b[0m\u001b[0;34m,\u001b[0m \u001b[0mname\u001b[0m\u001b[0;34m=\u001b[0m\u001b[0;34m'Hidden_Layer_1'\u001b[0m\u001b[0;34m,\u001b[0m \u001b[0minput_dim\u001b[0m\u001b[0;34m=\u001b[0m\u001b[0;36m784\u001b[0m\u001b[0;34m)\u001b[0m\u001b[0;34m)\u001b[0m\u001b[0;34m\u001b[0m\u001b[0;34m\u001b[0m\u001b[0m\n",
      "\u001b[0;32m~/newconda/lib/python3.7/site-packages/keras/engine/sequential.py\u001b[0m in \u001b[0;36m__init__\u001b[0;34m(self, layers, name)\u001b[0m\n\u001b[1;32m     92\u001b[0m         \u001b[0;32mif\u001b[0m \u001b[0mlayers\u001b[0m\u001b[0;34m:\u001b[0m\u001b[0;34m\u001b[0m\u001b[0;34m\u001b[0m\u001b[0m\n\u001b[1;32m     93\u001b[0m             \u001b[0;32mfor\u001b[0m \u001b[0mlayer\u001b[0m \u001b[0;32min\u001b[0m \u001b[0mlayers\u001b[0m\u001b[0;34m:\u001b[0m\u001b[0;34m\u001b[0m\u001b[0;34m\u001b[0m\u001b[0m\n\u001b[0;32m---> 94\u001b[0;31m                 \u001b[0mself\u001b[0m\u001b[0;34m.\u001b[0m\u001b[0madd\u001b[0m\u001b[0;34m(\u001b[0m\u001b[0mlayer\u001b[0m\u001b[0;34m)\u001b[0m\u001b[0;34m\u001b[0m\u001b[0;34m\u001b[0m\u001b[0m\n\u001b[0m\u001b[1;32m     95\u001b[0m \u001b[0;34m\u001b[0m\u001b[0m\n\u001b[1;32m     96\u001b[0m     \u001b[0;34m@\u001b[0m\u001b[0mproperty\u001b[0m\u001b[0;34m\u001b[0m\u001b[0;34m\u001b[0m\u001b[0m\n",
      "\u001b[0;32m~/newconda/lib/python3.7/site-packages/keras/engine/sequential.py\u001b[0m in \u001b[0;36madd\u001b[0;34m(self, layer)\u001b[0m\n\u001b[1;32m    131\u001b[0m             raise TypeError('The added layer must be '\n\u001b[1;32m    132\u001b[0m                             \u001b[0;34m'an instance of class Layer. '\u001b[0m\u001b[0;34m\u001b[0m\u001b[0;34m\u001b[0m\u001b[0m\n\u001b[0;32m--> 133\u001b[0;31m                             'Found: ' + str(layer))\n\u001b[0m\u001b[1;32m    134\u001b[0m         \u001b[0mself\u001b[0m\u001b[0;34m.\u001b[0m\u001b[0mbuilt\u001b[0m \u001b[0;34m=\u001b[0m \u001b[0;32mFalse\u001b[0m\u001b[0;34m\u001b[0m\u001b[0;34m\u001b[0m\u001b[0m\n\u001b[1;32m    135\u001b[0m         \u001b[0;32mif\u001b[0m \u001b[0;32mnot\u001b[0m \u001b[0mself\u001b[0m\u001b[0;34m.\u001b[0m\u001b[0m_layers\u001b[0m\u001b[0;34m:\u001b[0m\u001b[0;34m\u001b[0m\u001b[0;34m\u001b[0m\u001b[0m\n",
      "\u001b[0;31mTypeError\u001b[0m: The added layer must be an instance of class Layer. Found: D"
     ]
    }
   ],
   "source": [
    "# Define the neural network\n",
    "\n",
    "deep_model = Sequential(\"Deep Network\")\n",
    "\n",
    "deep_model.add(Dense(50, activation=\"relu\", name='Hidden_Layer_1', input_dim=784))\n",
    "deep_model.add(Dense(50, activation=\"relu\", name='Hidden_Layer_2'))\n",
    "deep_model.add(Dense(50, activation=\"relu\", name='Hidden_Layer_3'))\n",
    "deep_model.add(Dense(50, activation=\"relu\", name='Hidden_Layer_4'))\n",
    "deep_model.add(Dense(50, activation=\"relu\", name='Hidden_Layer_5'))\n",
    "\n",
    "deep_model.add(Dense(10, name=\"Output_Layer\"))                  # 10 is the output dimension\n",
    "deep_model.add(Activation(\"softmax\", name='Output_Activation')) # Provides probabilities for each of 0,..,9\n",
    "deep_model.compile(loss=\"categorical_crossentropy\", optimizer=SGD(clipnorm=1), metrics=[categorical_accuracy] )"
   ]
  },
  {
   "cell_type": "code",
   "execution_count": null,
   "metadata": {
    "ExecuteTime": {
     "end_time": "2020-10-06T19:49:09.287329Z",
     "start_time": "2020-10-06T19:48:36.888Z"
    }
   },
   "outputs": [],
   "source": [
    "deep_model.summary()"
   ]
  },
  {
   "cell_type": "code",
   "execution_count": null,
   "metadata": {
    "ExecuteTime": {
     "end_time": "2020-10-06T19:49:09.291553Z",
     "start_time": "2020-10-06T19:48:36.890Z"
    },
    "hideCode": false,
    "hidePrompt": false
   },
   "outputs": [],
   "source": [
    "history = deep_model.fit(\n",
    "    X_trai, Y_trai, validation_split=0.2,\n",
    "    epochs=25, batch_size=128, verbose=1,\n",
    "    callbacks=[\n",
    "        EarlyStopping(monitor='val_categorical_accuracy', patience=3, verbose=1, mode='auto')\n",
    "    ],\n",
    ")"
   ]
  },
  {
   "cell_type": "code",
   "execution_count": null,
   "metadata": {
    "ExecuteTime": {
     "end_time": "2020-10-06T19:49:09.297306Z",
     "start_time": "2020-10-06T19:48:36.893Z"
    },
    "hideCode": false,
    "hidePrompt": false,
    "scrolled": true
   },
   "outputs": [],
   "source": [
    "df = pd.DataFrame(history.history).rename({\n",
    "    'loss':'Training Loss', 'val_loss':'Validation Loss',\n",
    "},axis=1)\n",
    "df.index = df.index + 1\n",
    "\n",
    "fig, ax1 = plt.subplots(1,1, figsize=(10,5))\n",
    "df.iloc[1:][['Training Loss', 'Validation Loss']].plot(style='-o', ax=ax1, logy=True);\n",
    "# plt.savefig(\"training.pdf\")"
   ]
  },
  {
   "cell_type": "markdown",
   "metadata": {
    "ExecuteTime": {
     "end_time": "2019-10-26T18:48:01.155227Z",
     "start_time": "2019-10-26T18:48:01.137797Z"
    },
    "hideCode": false,
    "hidePrompt": false
   },
   "source": [
    "## Out-of-sample predictions"
   ]
  },
  {
   "cell_type": "code",
   "execution_count": null,
   "metadata": {
    "ExecuteTime": {
     "end_time": "2020-10-06T19:49:09.308306Z",
     "start_time": "2020-10-06T19:48:36.900Z"
    },
    "hideCode": false,
    "hidePrompt": false
   },
   "outputs": [],
   "source": [
    "# The predicted class is the one with the highest prob\n",
    "preds = deep_model.predict(X_trai)\n",
    "preds = np.argmax(preds,axis=1)\n",
    "reals = np.argmax(Y_trai,axis=1)\n",
    "accuracy_in = np.mean(preds==reals)\n",
    "\n",
    "preds = deep_model.predict(X_test)\n",
    "preds = np.argmax(preds,axis=1)\n",
    "reals = np.argmax(Y_test,axis=1)\n",
    "accuracy_out = np.mean(preds==reals)\n",
    "\n",
    "print(\"In-sample accuracy:     {0:0.2f}%\".format(accuracy_in*100))\n",
    "print(\"Out-of-sample accuracy: {0:0.2f}%\".format(accuracy_out*100))"
   ]
  },
  {
   "cell_type": "code",
   "execution_count": null,
   "metadata": {
    "ExecuteTime": {
     "end_time": "2020-10-06T19:49:09.316355Z",
     "start_time": "2020-10-06T19:48:36.904Z"
    },
    "code_folding": [],
    "hideCode": false,
    "hidePrompt": false,
    "scrolled": true
   },
   "outputs": [],
   "source": [
    "NX, NY = 2, 6\n",
    "fig, ax = plt.subplots(NX,NY,figsize=(1.5*NY,2*NX))\n",
    "for i in range(NX):\n",
    "    for j in range(NY):\n",
    "        s = np.random.randint(len(preds))\n",
    "        img = x_test[s]\n",
    "        colors = 'Greens' if reals[s]==preds[s] else 'Reds'\n",
    "        ax[i][j].imshow(img, cmap=colors)\n",
    "        ax[i][j].set_title(\"Number:    %d \\nPredicted: %d\"%(reals[s], preds[s]))\n",
    "        ax[i][j].set_xticklabels([]); ax[i][j].set_xticks([])\n",
    "        ax[i][j].set_yticklabels([]); ax[i][j].set_yticks([])\n",
    "plt.tight_layout()\n",
    "#plt.savefig(\"digits_preds_examples.pdf\")"
   ]
  },
  {
   "cell_type": "markdown",
   "metadata": {},
   "source": [
    "# Compare Models' Predictions"
   ]
  },
  {
   "cell_type": "code",
   "execution_count": null,
   "metadata": {
    "ExecuteTime": {
     "end_time": "2020-10-06T19:49:09.332328Z",
     "start_time": "2020-10-06T19:48:36.907Z"
    }
   },
   "outputs": [],
   "source": [
    "preds_shal = model.predict(X_test)\n",
    "preds_shal = np.argmax(preds_shal,axis=1)\n",
    "\n",
    "preds_deep = deep_model.predict(X_test)\n",
    "preds_deep = np.argmax(preds_deep,axis=1)\n",
    "\n",
    "reals = np.argmax(Y_test,axis=1)"
   ]
  },
  {
   "cell_type": "code",
   "execution_count": null,
   "metadata": {
    "ExecuteTime": {
     "end_time": "2020-10-06T19:49:09.340759Z",
     "start_time": "2020-10-06T19:48:36.916Z"
    }
   },
   "outputs": [],
   "source": [
    "df = pd.DataFrame({\n",
    "    'real':reals,\n",
    "    'pred_shal':preds_shal,\n",
    "    'pred_deep':preds_deep,\n",
    "})\n",
    "\n",
    "df['ok_shal'] = (df['pred_shal'] == df['real'])\n",
    "df['ok_deep'] = (df['pred_deep'] == df['real'])\n",
    "df.head()"
   ]
  },
  {
   "cell_type": "code",
   "execution_count": null,
   "metadata": {
    "ExecuteTime": {
     "end_time": "2020-10-06T19:49:09.351600Z",
     "start_time": "2020-10-06T19:48:36.920Z"
    }
   },
   "outputs": [],
   "source": [
    "improvements = df[df['ok_deep'] > df['ok_shal']].index\n",
    "\n",
    "fig, (ax1, ax2) = plt.subplots(1,2,figsize=(6,4))\n",
    "\n",
    "s = np.random.choice(improvements,1)[0]\n",
    "img = x_test[s]\n",
    "\n",
    "fig.suptitle(\"Number: %d\\n\"%reals[s])\n",
    "    \n",
    "colors = 'Greens' if reals[s]==preds_deep[s] else 'Reds'\n",
    "ax1.imshow(img, cmap=colors)\n",
    "ax1.set_title(\n",
    "    \"Predicted (deep): %d \"%(preds_deep[s])\n",
    ")\n",
    "\n",
    "colors = 'Greens' if reals[s]==preds_shal[s] else 'Reds'\n",
    "ax2.imshow(img, cmap=colors)\n",
    "ax2.set_title(\n",
    "    \"Predicted (shallow): %d\"%(preds_shal[s])\n",
    ")\n",
    "\n",
    "ax1.set_xticklabels([]); ax1.set_xticks([])\n",
    "ax1.set_yticklabels([]); ax1.set_yticks([])\n",
    "\n",
    "ax2.set_xticklabels([]); ax2.set_xticks([])\n",
    "ax2.set_yticklabels([]); ax2.set_yticks([])\n",
    "\n",
    "plt.tight_layout()"
   ]
  },
  {
   "cell_type": "markdown",
   "metadata": {},
   "source": [
    "<br/>\n",
    "<br/>\n",
    "<br/>\n",
    "<br/>\n",
    "<br/>\n",
    "<br/>\n",
    "<br/>\n",
    "<br/>"
   ]
  },
  {
   "cell_type": "markdown",
   "metadata": {},
   "source": [
    "<br/>\n",
    "<br/>\n",
    "<br/>\n",
    "<br/>\n",
    "<br/>\n",
    "<br/>\n",
    "<br/>\n",
    "<br/>"
   ]
  }
 ],
 "metadata": {
  "hide_code_all_hidden": false,
  "kernelspec": {
   "display_name": "Python 3",
   "language": "python",
   "name": "python3"
  },
  "language_info": {
   "codemirror_mode": {
    "name": "ipython",
    "version": 3
   },
   "file_extension": ".py",
   "mimetype": "text/x-python",
   "name": "python",
   "nbconvert_exporter": "python",
   "pygments_lexer": "ipython3",
   "version": "3.7.4"
  },
  "toc": {
   "base_numbering": 1,
   "nav_menu": {
    "height": "102px",
    "width": "252px"
   },
   "number_sections": true,
   "sideBar": true,
   "skip_h1_title": false,
   "title_cell": "Table of Contents",
   "title_sidebar": "Contents",
   "toc_cell": false,
   "toc_position": {},
   "toc_section_display": "block",
   "toc_window_display": false
  }
 },
 "nbformat": 4,
 "nbformat_minor": 2
}
